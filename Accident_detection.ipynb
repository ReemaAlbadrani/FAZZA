{
 "cells": [
  {
   "cell_type": "code",
   "execution_count": null,
   "metadata": {},
   "outputs": [],
   "source": [
    "!pip install ultralytics &> /dev/null"
   ]
  },
  {
   "cell_type": "code",
   "execution_count": null,
   "id": "7f75abdb",
   "metadata": {
    "_cell_guid": "b1076dfc-b9ad-4769-8c92-a6c4dae69d19",
    "_uuid": "8f2839f25d086af736a60e9eeb907d3b93b6e0e5",
    "execution": {
     "iopub.execute_input": "2023-11-26T19:02:13.587225Z",
     "iopub.status.busy": "2023-11-26T19:02:13.586854Z",
     "iopub.status.idle": "2023-11-26T19:02:27.014612Z",
     "shell.execute_reply": "2023-11-26T19:02:27.013787Z"
    },
    "papermill": {
     "duration": 13.439196,
     "end_time": "2023-11-26T19:02:27.017042",
     "exception": false,
     "start_time": "2023-11-26T19:02:13.577846",
     "status": "completed"
    },
    "tags": []
   },
   "outputs": [
    {
     "name": "stderr",
     "output_type": "stream",
     "text": [
      "/opt/conda/lib/python3.10/site-packages/scipy/__init__.py:146: UserWarning: A NumPy version >=1.16.5 and <1.23.0 is required for this version of SciPy (detected version 1.24.3\n",
      "  warnings.warn(f\"A NumPy version >={np_minversion} and <{np_maxversion}\"\n"
     ]
    }
   ],
   "source": [
    "# from google.colab import drive\n",
    "import io\n",
    "import pandas as pd\n",
    "import numpy as np\n",
    "import cv2\n",
    "# from google.colab.patches import cv2_imshow\n",
    "import os\n",
    "import zipfile\n",
    "import shutil\n",
    "\n",
    "import os\n",
    "import pandas as pd\n",
    "import pickle\n",
    "import numpy as np\n",
    "import seaborn as sns\n",
    "from sklearn.datasets import load_files\n",
    "# from keras.utils import np_utils\n",
    "import matplotlib.pyplot as plt\n",
    "from keras.layers import Conv2D, MaxPooling2D, GlobalAveragePooling2D\n",
    "from keras.layers import Dropout, Flatten, Dense\n",
    "from keras.models import Sequential\n",
    "# from keras.utils.vis_utils import plot_model\n",
    "from keras.callbacks import ModelCheckpoint\n",
    "from keras.utils import to_categorical\n",
    "from sklearn.metrics import confusion_matrix\n",
    "from keras.preprocessing import image\n",
    "from tqdm import tqdm\n",
    "from sklearn.model_selection import train_test_split\n",
    "from keras.preprocessing.image import img_to_array, array_to_img\n",
    "from keras.preprocessing import image\n",
    "from PIL import Image\n",
    "import seaborn as sns\n",
    "from sklearn.metrics import accuracy_score,precision_score,recall_score,f1_score\n",
    "from ultralytics import YOLO\n",
    "# Pretty display for notebooks\n",
    "%matplotlib inline"
   ]
  },
  {
   "cell_type": "code",
   "execution_count": 2,
   "id": "c3b0c20b",
   "metadata": {
    "execution": {
     "iopub.execute_input": "2023-11-26T19:02:27.032767Z",
     "iopub.status.busy": "2023-11-26T19:02:27.032185Z",
     "iopub.status.idle": "2023-11-26T19:02:27.036693Z",
     "shell.execute_reply": "2023-11-26T19:02:27.035864Z"
    },
    "papermill": {
     "duration": 0.014279,
     "end_time": "2023-11-26T19:02:27.038671",
     "exception": false,
     "start_time": "2023-11-26T19:02:27.024392",
     "status": "completed"
    },
    "tags": []
   },
   "outputs": [],
   "source": [
    "Accident_Images = '/kaggle/input/synthetic-dataset-for-accident-detection/AccidentData/AccidentData'\n",
    "\n",
    "No_Accident_Images = '/kaggle/input/synthetic-dataset-for-accident-detection/NonAccidentData/NonAccidentData'\n",
    "\n",
    "MODEL_PATH = '/kaggle/working/model/'"
   ]
  },
  {
   "cell_type": "code",
   "execution_count": null,
   "metadata": {},
   "outputs": [],
   "source": [
    "def get_images(directory_path):\n",
    "    images_paths_list = []\n",
    "    file_list = os.listdir(directory_path)\n",
    "    for file_name  in file_list:\n",
    "        if file_name .endswith(\".jpg\"):\n",
    "            file_path = os.path.join(directory_path, file_name)\n",
    "            # Open the image using PIL\n",
    "            try:\n",
    "#                 image = Image.open(file_path)\n",
    "                images_paths_list.append(file_path)\n",
    "            except Exception as e:\n",
    "                print(f\"Error loading image '{file_name}': {e}\")\n",
    "        \n",
    "    return images_paths_list"
   ]
  },
  {
   "cell_type": "code",
   "execution_count": null,
   "metadata": {},
   "outputs": [],
   "source": [
    "\n",
    "acc_image_path = get_images('/kaggle/input/synthetic-dataset-for-accident-detection/AccidentData/AccidentData')"
   ]
  },
  {
   "cell_type": "code",
   "execution_count": null,
   "metadata": {},
   "outputs": [],
   "source": [
    "no_acc_images_path = get_images('/kaggle/input/synthetic-dataset-for-accident-detection/NonAccidentData/NonAccidentData')"
   ]
  },
  {
   "cell_type": "code",
   "execution_count": null,
   "metadata": {},
   "outputs": [],
   "source": [
    "model = YOLO(\"yolov8x.pt\") "
   ]
  },
  {
   "cell_type": "code",
   "execution_count": null,
   "metadata": {},
   "outputs": [],
   "source": [
    "for path in acc_image_path[:2]:\n",
    "    # save=True is required as of 2023 march\n",
    "    !yolo task=detect mode=predict model=yolov8x.pt conf=0.2 source={path} project=\"CarDetection\" name=\"accident_data\" save=True exist_ok=True"
   ]
  },
  {
   "cell_type": "code",
   "execution_count": null,
   "metadata": {},
   "outputs": [],
   "source": [
    "for path in no_acc_images_path:\n",
    "    # save=True is required as of 2023 march\n",
    "    !yolo task=detect mode=predict model=yolov8x.pt conf=0.2 source={path} project=\"CarDetection\" name=\"no_accident_data\" save=True exist_ok=True"
   ]
  },
  {
   "cell_type": "code",
   "execution_count": 3,
   "id": "a40f6bd1",
   "metadata": {
    "execution": {
     "iopub.execute_input": "2023-11-26T19:02:27.053426Z",
     "iopub.status.busy": "2023-11-26T19:02:27.053149Z",
     "iopub.status.idle": "2023-11-26T19:02:27.059223Z",
     "shell.execute_reply": "2023-11-26T19:02:27.058372Z"
    },
    "papermill": {
     "duration": 0.015656,
     "end_time": "2023-11-26T19:02:27.061079",
     "exception": false,
     "start_time": "2023-11-26T19:02:27.045423",
     "status": "completed"
    },
    "tags": []
   },
   "outputs": [],
   "source": [
    "def get_images(directory_path, label_value):\n",
    "    images_paths_list = []\n",
    "    labels_list = []\n",
    "    file_list = os.listdir(directory_path)\n",
    "    for file_name  in file_list:\n",
    "        if file_name .endswith(\".jpg\"):\n",
    "            file_path = os.path.join(directory_path, file_name)\n",
    "            # Open the image using PIL\n",
    "            try:\n",
    "#                 image = Image.open(file_path)\n",
    "                images_paths_list.append(file_path)\n",
    "                labels_list.append(label_value)\n",
    "            except Exception as e:\n",
    "                print(f\"Error loading image '{file_name}': {e}\")\n",
    "        \n",
    "    return images_paths_list, labels_list"
   ]
  },
  {
   "cell_type": "code",
   "execution_count": 4,
   "id": "b8ef23e4",
   "metadata": {
    "execution": {
     "iopub.execute_input": "2023-11-26T19:02:27.075858Z",
     "iopub.status.busy": "2023-11-26T19:02:27.075542Z",
     "iopub.status.idle": "2023-11-26T19:02:27.322068Z",
     "shell.execute_reply": "2023-11-26T19:02:27.321328Z"
    },
    "papermill": {
     "duration": 0.256456,
     "end_time": "2023-11-26T19:02:27.324363",
     "exception": false,
     "start_time": "2023-11-26T19:02:27.067907",
     "status": "completed"
    },
    "tags": []
   },
   "outputs": [],
   "source": [
    "acc_image_path, acc_labels = get_images('/kaggle/input/synthetic-dataset-for-accident-detection/AccidentData/AccidentData', 1)"
   ]
  },
  {
   "cell_type": "code",
   "execution_count": 5,
   "id": "609f15cc",
   "metadata": {
    "execution": {
     "iopub.execute_input": "2023-11-26T19:02:27.349636Z",
     "iopub.status.busy": "2023-11-26T19:02:27.348742Z",
     "iopub.status.idle": "2023-11-26T19:02:27.354053Z",
     "shell.execute_reply": "2023-11-26T19:02:27.353103Z"
    },
    "papermill": {
     "duration": 0.016413,
     "end_time": "2023-11-26T19:02:27.356223",
     "exception": false,
     "start_time": "2023-11-26T19:02:27.339810",
     "status": "completed"
    },
    "tags": []
   },
   "outputs": [
    {
     "name": "stdout",
     "output_type": "stream",
     "text": [
      "6614\n",
      "6614\n"
     ]
    }
   ],
   "source": [
    "print(len(acc_image_path))\n",
    "print(len(acc_labels))"
   ]
  },
  {
   "cell_type": "code",
   "execution_count": 6,
   "id": "85014a60",
   "metadata": {
    "execution": {
     "iopub.execute_input": "2023-11-26T19:02:27.371574Z",
     "iopub.status.busy": "2023-11-26T19:02:27.371283Z",
     "iopub.status.idle": "2023-11-26T19:02:27.618157Z",
     "shell.execute_reply": "2023-11-26T19:02:27.617338Z"
    },
    "papermill": {
     "duration": 0.257106,
     "end_time": "2023-11-26T19:02:27.620488",
     "exception": false,
     "start_time": "2023-11-26T19:02:27.363382",
     "status": "completed"
    },
    "tags": []
   },
   "outputs": [],
   "source": [
    "no_acc_images_path, no_acc_labels = get_images('/kaggle/input/synthetic-dataset-for-accident-detection/NonAccidentData/NonAccidentData', 0)"
   ]
  },
  {
   "cell_type": "code",
   "execution_count": 7,
   "id": "9729f569",
   "metadata": {
    "execution": {
     "iopub.execute_input": "2023-11-26T19:02:27.635985Z",
     "iopub.status.busy": "2023-11-26T19:02:27.635666Z",
     "iopub.status.idle": "2023-11-26T19:02:27.640773Z",
     "shell.execute_reply": "2023-11-26T19:02:27.639689Z"
    },
    "papermill": {
     "duration": 0.014973,
     "end_time": "2023-11-26T19:02:27.642704",
     "exception": false,
     "start_time": "2023-11-26T19:02:27.627731",
     "status": "completed"
    },
    "tags": []
   },
   "outputs": [
    {
     "name": "stdout",
     "output_type": "stream",
     "text": [
      "6614\n",
      "6614\n"
     ]
    }
   ],
   "source": [
    "print(len(no_acc_images_path))\n",
    "print(len(no_acc_labels))"
   ]
  },
  {
   "cell_type": "code",
   "execution_count": 8,
   "id": "bb62cc07",
   "metadata": {
    "execution": {
     "iopub.execute_input": "2023-11-26T19:02:27.657877Z",
     "iopub.status.busy": "2023-11-26T19:02:27.657589Z",
     "iopub.status.idle": "2023-11-26T19:02:27.663360Z",
     "shell.execute_reply": "2023-11-26T19:02:27.662519Z"
    },
    "papermill": {
     "duration": 0.015786,
     "end_time": "2023-11-26T19:02:27.665482",
     "exception": false,
     "start_time": "2023-11-26T19:02:27.649696",
     "status": "completed"
    },
    "tags": []
   },
   "outputs": [],
   "source": [
    "images_path = acc_image_path + no_acc_images_path\n",
    "labels = acc_labels + no_acc_labels\n",
    "# labels = [[label] for label in labels]\n",
    "labels = np.array(labels).reshape((len(labels), 1))"
   ]
  },
  {
   "cell_type": "code",
   "execution_count": 9,
   "id": "73aeead2",
   "metadata": {
    "execution": {
     "iopub.execute_input": "2023-11-26T19:02:27.681191Z",
     "iopub.status.busy": "2023-11-26T19:02:27.680550Z",
     "iopub.status.idle": "2023-11-26T19:02:27.687187Z",
     "shell.execute_reply": "2023-11-26T19:02:27.686281Z"
    },
    "papermill": {
     "duration": 0.016535,
     "end_time": "2023-11-26T19:02:27.689132",
     "exception": false,
     "start_time": "2023-11-26T19:02:27.672597",
     "status": "completed"
    },
    "tags": []
   },
   "outputs": [
    {
     "data": {
      "text/plain": [
       "(13228, 1)"
      ]
     },
     "execution_count": 9,
     "metadata": {},
     "output_type": "execute_result"
    }
   ],
   "source": [
    "np.shape(labels)"
   ]
  },
  {
   "cell_type": "code",
   "execution_count": 10,
   "id": "e7aa2e65",
   "metadata": {
    "execution": {
     "iopub.execute_input": "2023-11-26T19:02:27.704935Z",
     "iopub.status.busy": "2023-11-26T19:02:27.704668Z",
     "iopub.status.idle": "2023-11-26T19:02:27.714858Z",
     "shell.execute_reply": "2023-11-26T19:02:27.714168Z"
    },
    "papermill": {
     "duration": 0.020423,
     "end_time": "2023-11-26T19:02:27.716847",
     "exception": false,
     "start_time": "2023-11-26T19:02:27.696424",
     "status": "completed"
    },
    "tags": []
   },
   "outputs": [],
   "source": [
    "xtrain, xvalid, ytrain, yvalid = train_test_split(images_path, labels, test_size = 0.2, random_state=42)"
   ]
  },
  {
   "cell_type": "code",
   "execution_count": 11,
   "id": "018d5b6b",
   "metadata": {
    "execution": {
     "iopub.execute_input": "2023-11-26T19:02:27.733513Z",
     "iopub.status.busy": "2023-11-26T19:02:27.733233Z",
     "iopub.status.idle": "2023-11-26T19:02:27.738189Z",
     "shell.execute_reply": "2023-11-26T19:02:27.737341Z"
    },
    "papermill": {
     "duration": 0.015686,
     "end_time": "2023-11-26T19:02:27.740238",
     "exception": false,
     "start_time": "2023-11-26T19:02:27.724552",
     "status": "completed"
    },
    "tags": []
   },
   "outputs": [],
   "source": [
    "def path_to_tensor(img_path):\n",
    "    # loads RGB image as PIL.Image.Image type\n",
    "    img = image.load_img(img_path,color_mode = 'grayscale', target_size=(224, 224))\n",
    "    # convert PIL.Image.Image type to 3D tensor with shape (1, 224, 224, 1)\n",
    "    x = image.img_to_array(img)\n",
    "    # convert 3D tensor to 4D tensor with shape (1, 224, 224, 1) and return 4D tensor\n",
    "    return np.expand_dims(x, axis=0)"
   ]
  },
  {
   "cell_type": "code",
   "execution_count": 12,
   "id": "b6bd209f",
   "metadata": {
    "execution": {
     "iopub.execute_input": "2023-11-26T19:02:27.756161Z",
     "iopub.status.busy": "2023-11-26T19:02:27.755836Z",
     "iopub.status.idle": "2023-11-26T19:02:27.760362Z",
     "shell.execute_reply": "2023-11-26T19:02:27.759495Z"
    },
    "papermill": {
     "duration": 0.014729,
     "end_time": "2023-11-26T19:02:27.762305",
     "exception": false,
     "start_time": "2023-11-26T19:02:27.747576",
     "status": "completed"
    },
    "tags": []
   },
   "outputs": [],
   "source": [
    "def paths_to_tensor(img_paths):\n",
    "    list_of_tensors = [path_to_tensor(img_path) for img_path in tqdm(img_paths)]\n",
    "    return np.vstack(list_of_tensors)"
   ]
  },
  {
   "cell_type": "code",
   "execution_count": 13,
   "id": "29d986d6",
   "metadata": {
    "execution": {
     "iopub.execute_input": "2023-11-26T19:02:27.778029Z",
     "iopub.status.busy": "2023-11-26T19:02:27.777718Z",
     "iopub.status.idle": "2023-11-26T19:06:55.912274Z",
     "shell.execute_reply": "2023-11-26T19:06:55.911469Z"
    },
    "papermill": {
     "duration": 268.145103,
     "end_time": "2023-11-26T19:06:55.914531",
     "exception": false,
     "start_time": "2023-11-26T19:02:27.769428",
     "status": "completed"
    },
    "tags": []
   },
   "outputs": [
    {
     "name": "stderr",
     "output_type": "stream",
     "text": [
      "100%|██████████| 10582/10582 [04:26<00:00, 39.73it/s]\n"
     ]
    }
   ],
   "source": [
    "from PIL import ImageFile, Image\n",
    "ImageFile.LOAD_TRUNCATED_IMAGES = True\n",
    "\n",
    "# pre-process the data for Keras\n",
    "train_tensors = paths_to_tensor(xtrain).astype('float32')/255 - 0.5"
   ]
  },
  {
   "cell_type": "code",
   "execution_count": 14,
   "id": "0439c738",
   "metadata": {
    "execution": {
     "iopub.execute_input": "2023-11-26T19:06:56.272240Z",
     "iopub.status.busy": "2023-11-26T19:06:56.271116Z",
     "iopub.status.idle": "2023-11-26T19:08:02.004040Z",
     "shell.execute_reply": "2023-11-26T19:08:02.003023Z"
    },
    "papermill": {
     "duration": 65.914117,
     "end_time": "2023-11-26T19:08:02.006525",
     "exception": false,
     "start_time": "2023-11-26T19:06:56.092408",
     "status": "completed"
    },
    "tags": []
   },
   "outputs": [
    {
     "name": "stderr",
     "output_type": "stream",
     "text": [
      "100%|██████████| 2646/2646 [01:05<00:00, 40.45it/s]\n"
     ]
    }
   ],
   "source": [
    "valid_tensors = paths_to_tensor(xvalid).astype('float32')/255 - 0.5"
   ]
  },
  {
   "cell_type": "code",
   "execution_count": 15,
   "id": "dff45ed4",
   "metadata": {
    "execution": {
     "iopub.execute_input": "2023-11-26T19:08:02.482246Z",
     "iopub.status.busy": "2023-11-26T19:08:02.481782Z",
     "iopub.status.idle": "2023-11-26T19:08:04.968402Z",
     "shell.execute_reply": "2023-11-26T19:08:04.967409Z"
    },
    "papermill": {
     "duration": 2.727853,
     "end_time": "2023-11-26T19:08:04.980143",
     "exception": false,
     "start_time": "2023-11-26T19:08:02.252290",
     "status": "completed"
    },
    "tags": []
   },
   "outputs": [
    {
     "name": "stdout",
     "output_type": "stream",
     "text": [
      "Model: \"sequential\"\n",
      "_________________________________________________________________\n",
      " Layer (type)                Output Shape              Param #   \n",
      "=================================================================\n",
      " conv2d (Conv2D)             (None, 224, 224, 64)      320       \n",
      "                                                                 \n",
      " max_pooling2d (MaxPooling2  (None, 112, 112, 64)      0         \n",
      " D)                                                              \n",
      "                                                                 \n",
      " conv2d_1 (Conv2D)           (None, 112, 112, 128)     32896     \n",
      "                                                                 \n",
      " max_pooling2d_1 (MaxPoolin  (None, 56, 56, 128)       0         \n",
      " g2D)                                                            \n",
      "                                                                 \n",
      " conv2d_2 (Conv2D)           (None, 56, 56, 256)       131328    \n",
      "                                                                 \n",
      " max_pooling2d_2 (MaxPoolin  (None, 28, 28, 256)       0         \n",
      " g2D)                                                            \n",
      "                                                                 \n",
      " conv2d_3 (Conv2D)           (None, 28, 28, 512)       524800    \n",
      "                                                                 \n",
      " max_pooling2d_3 (MaxPoolin  (None, 14, 14, 512)       0         \n",
      " g2D)                                                            \n",
      "                                                                 \n",
      " dropout (Dropout)           (None, 14, 14, 512)       0         \n",
      "                                                                 \n",
      " flatten (Flatten)           (None, 100352)            0         \n",
      "                                                                 \n",
      " dense (Dense)               (None, 500)               50176500  \n",
      "                                                                 \n",
      " dropout_1 (Dropout)         (None, 500)               0         \n",
      "                                                                 \n",
      " dense_1 (Dense)             (None, 1)                 501       \n",
      "                                                                 \n",
      "=================================================================\n",
      "Total params: 50866345 (194.04 MB)\n",
      "Trainable params: 50866345 (194.04 MB)\n",
      "Non-trainable params: 0 (0.00 Byte)\n",
      "_________________________________________________________________\n"
     ]
    }
   ],
   "source": [
    "model = Sequential()\n",
    "\n",
    "model.add(Conv2D(filters=64, kernel_size=2, padding='same', activation='relu', input_shape=(224, 224, 1)))\n",
    "model.add(MaxPooling2D(pool_size=2))\n",
    "model.add(Conv2D(filters=128, kernel_size=2, padding='same', activation='relu'))\n",
    "model.add(MaxPooling2D(pool_size=2))\n",
    "model.add(Conv2D(filters=256, kernel_size=2, padding='same', activation='relu'))\n",
    "model.add(MaxPooling2D(pool_size=2))\n",
    "model.add(Conv2D(filters=512, kernel_size=2, padding='same', activation='relu'))\n",
    "model.add(MaxPooling2D(pool_size=2))\n",
    "model.add(Dropout(0.5))\n",
    "model.add(Flatten())\n",
    "model.add(Dense(500, activation='relu'))\n",
    "model.add(Dropout(0.5))\n",
    "model.add(Dense(1, activation='sigmoid'))\n",
    "model.summary()"
   ]
  },
  {
   "cell_type": "code",
   "execution_count": 16,
   "id": "556ee976",
   "metadata": {
    "execution": {
     "iopub.execute_input": "2023-11-26T19:08:05.425863Z",
     "iopub.status.busy": "2023-11-26T19:08:05.425512Z",
     "iopub.status.idle": "2023-11-26T19:08:05.442186Z",
     "shell.execute_reply": "2023-11-26T19:08:05.441431Z"
    },
    "papermill": {
     "duration": 0.24186,
     "end_time": "2023-11-26T19:08:05.444149",
     "exception": false,
     "start_time": "2023-11-26T19:08:05.202289",
     "status": "completed"
    },
    "tags": []
   },
   "outputs": [],
   "source": [
    "model.compile(optimizer='rmsprop', loss='binary_crossentropy', metrics=['accuracy'])"
   ]
  },
  {
   "cell_type": "code",
   "execution_count": 17,
   "id": "9772b339",
   "metadata": {
    "execution": {
     "iopub.execute_input": "2023-11-26T19:08:05.891309Z",
     "iopub.status.busy": "2023-11-26T19:08:05.890917Z",
     "iopub.status.idle": "2023-11-26T19:08:05.896197Z",
     "shell.execute_reply": "2023-11-26T19:08:05.895406Z"
    },
    "papermill": {
     "duration": 0.230275,
     "end_time": "2023-11-26T19:08:05.898082",
     "exception": false,
     "start_time": "2023-11-26T19:08:05.667807",
     "status": "completed"
    },
    "tags": []
   },
   "outputs": [],
   "source": [
    "filepath = os.path.join(MODEL_PATH,\"CNN-model-{epoch:02d}-{val_accuracy:.2f}.hdf5\")\n",
    "checkpoint = ModelCheckpoint(filepath, monitor='val_accuracy', verbose=1, save_best_only=True, mode='max',period=1)\n",
    "callbacks_list = [checkpoint]"
   ]
  },
  {
   "cell_type": "code",
   "execution_count": 18,
   "id": "27bf47b4",
   "metadata": {
    "execution": {
     "iopub.execute_input": "2023-11-26T19:08:06.384759Z",
     "iopub.status.busy": "2023-11-26T19:08:06.384386Z",
     "iopub.status.idle": "2023-11-26T19:23:33.849662Z",
     "shell.execute_reply": "2023-11-26T19:23:33.848762Z"
    },
    "papermill": {
     "duration": 927.687632,
     "end_time": "2023-11-26T19:23:33.852107",
     "exception": false,
     "start_time": "2023-11-26T19:08:06.164475",
     "status": "completed"
    },
    "tags": []
   },
   "outputs": [
    {
     "name": "stdout",
     "output_type": "stream",
     "text": [
      "Epoch 1/25\n"
     ]
    },
    {
     "name": "stderr",
     "output_type": "stream",
     "text": [
      "2023-11-26 19:08:11.846699: E tensorflow/core/grappler/optimizers/meta_optimizer.cc:954] layout failed: INVALID_ARGUMENT: Size of values 0 does not match size of permutation 4 @ fanin shape insequential/dropout/dropout/SelectV2-2-TransposeNHWCToNCHW-LayoutOptimizer\n"
     ]
    },
    {
     "name": "stdout",
     "output_type": "stream",
     "text": [
      "265/265 [==============================] - ETA: 0s - loss: 0.3778 - accuracy: 0.8246\n",
      "Epoch 1: val_accuracy improved from -inf to 0.91497, saving model to /kaggle/working/model/CNN-model-01-0.91.hdf5\n"
     ]
    },
    {
     "name": "stderr",
     "output_type": "stream",
     "text": [
      "/opt/conda/lib/python3.10/site-packages/keras/src/engine/training.py:3000: UserWarning: You are saving your model as an HDF5 file via `model.save()`. This file format is considered legacy. We recommend using instead the native Keras format, e.g. `model.save('my_model.keras')`.\n",
      "  saving_api.save_model(\n"
     ]
    },
    {
     "name": "stdout",
     "output_type": "stream",
     "text": [
      "265/265 [==============================] - 46s 141ms/step - loss: 0.3778 - accuracy: 0.8246 - val_loss: 0.1916 - val_accuracy: 0.9150\n",
      "Epoch 2/25\n",
      "265/265 [==============================] - ETA: 0s - loss: 0.1205 - accuracy: 0.9515\n",
      "Epoch 2: val_accuracy improved from 0.91497 to 0.98186, saving model to /kaggle/working/model/CNN-model-02-0.98.hdf5\n",
      "265/265 [==============================] - 35s 133ms/step - loss: 0.1205 - accuracy: 0.9515 - val_loss: 0.0552 - val_accuracy: 0.9819\n",
      "Epoch 3/25\n",
      "265/265 [==============================] - ETA: 0s - loss: 0.0599 - accuracy: 0.9796\n",
      "Epoch 3: val_accuracy improved from 0.98186 to 0.98639, saving model to /kaggle/working/model/CNN-model-03-0.99.hdf5\n",
      "265/265 [==============================] - 35s 133ms/step - loss: 0.0599 - accuracy: 0.9796 - val_loss: 0.0307 - val_accuracy: 0.9864\n",
      "Epoch 4/25\n",
      "265/265 [==============================] - ETA: 0s - loss: 0.0308 - accuracy: 0.9888\n",
      "Epoch 4: val_accuracy improved from 0.98639 to 0.98677, saving model to /kaggle/working/model/CNN-model-04-0.99.hdf5\n",
      "265/265 [==============================] - 35s 133ms/step - loss: 0.0308 - accuracy: 0.9888 - val_loss: 0.0381 - val_accuracy: 0.9868\n",
      "Epoch 5/25\n",
      "265/265 [==============================] - ETA: 0s - loss: 0.0260 - accuracy: 0.9908\n",
      "Epoch 5: val_accuracy improved from 0.98677 to 0.99735, saving model to /kaggle/working/model/CNN-model-05-1.00.hdf5\n",
      "265/265 [==============================] - 35s 133ms/step - loss: 0.0260 - accuracy: 0.9908 - val_loss: 0.0074 - val_accuracy: 0.9974\n",
      "Epoch 6/25\n",
      "265/265 [==============================] - ETA: 0s - loss: 0.0143 - accuracy: 0.9944\n",
      "Epoch 6: val_accuracy did not improve from 0.99735\n",
      "265/265 [==============================] - 35s 131ms/step - loss: 0.0143 - accuracy: 0.9944 - val_loss: 0.0139 - val_accuracy: 0.9936\n",
      "Epoch 7/25\n",
      "265/265 [==============================] - ETA: 0s - loss: 0.0129 - accuracy: 0.9955\n",
      "Epoch 7: val_accuracy did not improve from 0.99735\n",
      "265/265 [==============================] - 35s 131ms/step - loss: 0.0129 - accuracy: 0.9955 - val_loss: 0.0065 - val_accuracy: 0.9974\n",
      "Epoch 8/25\n",
      "265/265 [==============================] - ETA: 0s - loss: 0.0084 - accuracy: 0.9974\n",
      "Epoch 8: val_accuracy improved from 0.99735 to 0.99849, saving model to /kaggle/working/model/CNN-model-08-1.00.hdf5\n",
      "265/265 [==============================] - 35s 133ms/step - loss: 0.0084 - accuracy: 0.9974 - val_loss: 0.0038 - val_accuracy: 0.9985\n",
      "Epoch 9/25\n",
      "265/265 [==============================] - ETA: 0s - loss: 0.0089 - accuracy: 0.9978\n",
      "Epoch 9: val_accuracy improved from 0.99849 to 0.99887, saving model to /kaggle/working/model/CNN-model-09-1.00.hdf5\n",
      "265/265 [==============================] - 35s 133ms/step - loss: 0.0089 - accuracy: 0.9978 - val_loss: 0.0032 - val_accuracy: 0.9989\n",
      "Epoch 10/25\n",
      "265/265 [==============================] - ETA: 0s - loss: 0.0037 - accuracy: 0.9988\n",
      "Epoch 10: val_accuracy did not improve from 0.99887\n",
      "265/265 [==============================] - 35s 131ms/step - loss: 0.0037 - accuracy: 0.9988 - val_loss: 0.0080 - val_accuracy: 0.9985\n",
      "Epoch 11/25\n",
      "265/265 [==============================] - ETA: 0s - loss: 0.0045 - accuracy: 0.9989\n",
      "Epoch 11: val_accuracy did not improve from 0.99887\n",
      "265/265 [==============================] - 35s 131ms/step - loss: 0.0045 - accuracy: 0.9989 - val_loss: 0.0040 - val_accuracy: 0.9985\n",
      "Epoch 12/25\n",
      "265/265 [==============================] - ETA: 0s - loss: 0.0061 - accuracy: 0.9982\n",
      "Epoch 12: val_accuracy did not improve from 0.99887\n",
      "265/265 [==============================] - 35s 131ms/step - loss: 0.0061 - accuracy: 0.9982 - val_loss: 0.0060 - val_accuracy: 0.9981\n",
      "Epoch 13/25\n",
      "265/265 [==============================] - ETA: 0s - loss: 0.0048 - accuracy: 0.9983\n",
      "Epoch 13: val_accuracy did not improve from 0.99887\n",
      "265/265 [==============================] - 35s 131ms/step - loss: 0.0048 - accuracy: 0.9983 - val_loss: 0.0061 - val_accuracy: 0.9989\n",
      "Epoch 14/25\n",
      "265/265 [==============================] - ETA: 0s - loss: 0.0019 - accuracy: 0.9991\n",
      "Epoch 14: val_accuracy improved from 0.99887 to 0.99924, saving model to /kaggle/working/model/CNN-model-14-1.00.hdf5\n",
      "265/265 [==============================] - 35s 133ms/step - loss: 0.0019 - accuracy: 0.9991 - val_loss: 0.0022 - val_accuracy: 0.9992\n",
      "Epoch 15/25\n",
      "265/265 [==============================] - ETA: 0s - loss: 0.0016 - accuracy: 0.9998\n",
      "Epoch 15: val_accuracy did not improve from 0.99924\n",
      "265/265 [==============================] - 35s 131ms/step - loss: 0.0016 - accuracy: 0.9998 - val_loss: 0.0054 - val_accuracy: 0.9989\n",
      "Epoch 16/25\n",
      "265/265 [==============================] - ETA: 0s - loss: 0.0015 - accuracy: 0.9996\n",
      "Epoch 16: val_accuracy did not improve from 0.99924\n",
      "265/265 [==============================] - 35s 131ms/step - loss: 0.0015 - accuracy: 0.9996 - val_loss: 0.0025 - val_accuracy: 0.9992\n",
      "Epoch 17/25\n",
      "265/265 [==============================] - ETA: 0s - loss: 0.0020 - accuracy: 0.9991\n",
      "Epoch 17: val_accuracy did not improve from 0.99924\n",
      "265/265 [==============================] - 35s 131ms/step - loss: 0.0020 - accuracy: 0.9991 - val_loss: 0.0086 - val_accuracy: 0.9981\n",
      "Epoch 18/25\n",
      "265/265 [==============================] - ETA: 0s - loss: 0.0041 - accuracy: 0.9987\n",
      "Epoch 18: val_accuracy did not improve from 0.99924\n",
      "265/265 [==============================] - 35s 131ms/step - loss: 0.0041 - accuracy: 0.9987 - val_loss: 0.0027 - val_accuracy: 0.9992\n",
      "Epoch 19/25\n",
      "265/265 [==============================] - ETA: 0s - loss: 4.6628e-04 - accuracy: 0.9998\n",
      "Epoch 19: val_accuracy did not improve from 0.99924\n",
      "265/265 [==============================] - 35s 131ms/step - loss: 4.6628e-04 - accuracy: 0.9998 - val_loss: 0.0022 - val_accuracy: 0.9989\n",
      "Epoch 20/25\n",
      "265/265 [==============================] - ETA: 0s - loss: 0.0013 - accuracy: 0.9996\n",
      "Epoch 20: val_accuracy did not improve from 0.99924\n",
      "265/265 [==============================] - 35s 130ms/step - loss: 0.0013 - accuracy: 0.9996 - val_loss: 0.0025 - val_accuracy: 0.9989\n",
      "Epoch 21/25\n",
      "265/265 [==============================] - ETA: 0s - loss: 8.9263e-04 - accuracy: 0.9998\n",
      "Epoch 21: val_accuracy did not improve from 0.99924\n",
      "265/265 [==============================] - 35s 130ms/step - loss: 8.9263e-04 - accuracy: 0.9998 - val_loss: 0.0067 - val_accuracy: 0.9985\n",
      "Epoch 22/25\n",
      "265/265 [==============================] - ETA: 0s - loss: 9.6564e-04 - accuracy: 0.9993\n",
      "Epoch 22: val_accuracy improved from 0.99924 to 0.99962, saving model to /kaggle/working/model/CNN-model-22-1.00.hdf5\n",
      "265/265 [==============================] - 35s 133ms/step - loss: 9.6564e-04 - accuracy: 0.9993 - val_loss: 0.0011 - val_accuracy: 0.9996\n",
      "Epoch 23/25\n",
      "265/265 [==============================] - ETA: 0s - loss: 0.0022 - accuracy: 0.9994\n",
      "Epoch 23: val_accuracy did not improve from 0.99962\n",
      "265/265 [==============================] - 35s 130ms/step - loss: 0.0022 - accuracy: 0.9994 - val_loss: 0.0031 - val_accuracy: 0.9992\n",
      "Epoch 24/25\n",
      "265/265 [==============================] - ETA: 0s - loss: 0.0040 - accuracy: 0.9991\n",
      "Epoch 24: val_accuracy did not improve from 0.99962\n",
      "265/265 [==============================] - 35s 130ms/step - loss: 0.0040 - accuracy: 0.9991 - val_loss: 0.0021 - val_accuracy: 0.9992\n",
      "Epoch 25/25\n",
      "265/265 [==============================] - ETA: 0s - loss: 0.0034 - accuracy: 0.9991\n",
      "Epoch 25: val_accuracy did not improve from 0.99962\n",
      "265/265 [==============================] - 34s 130ms/step - loss: 0.0034 - accuracy: 0.9991 - val_loss: 0.0025 - val_accuracy: 0.9985\n"
     ]
    }
   ],
   "source": [
    "model_history = model.fit(train_tensors,ytrain,validation_data = (valid_tensors, yvalid),epochs=25, batch_size=40, shuffle=True,callbacks=callbacks_list)"
   ]
  },
  {
   "cell_type": "code",
   "execution_count": 19,
   "id": "2ac16242",
   "metadata": {
    "execution": {
     "iopub.execute_input": "2023-11-26T19:23:35.414868Z",
     "iopub.status.busy": "2023-11-26T19:23:35.414121Z",
     "iopub.status.idle": "2023-11-26T19:23:35.985110Z",
     "shell.execute_reply": "2023-11-26T19:23:35.984279Z"
    },
    "papermill": {
     "duration": 1.322881,
     "end_time": "2023-11-26T19:23:35.987424",
     "exception": false,
     "start_time": "2023-11-26T19:23:34.664543",
     "status": "completed"
    },
    "tags": []
   },
   "outputs": [],
   "source": [
    "Model_path =os.path.join(MODEL_PATH,\"the-complete-model.hdf5\")\n",
    "model.save(Model_path)"
   ]
  },
  {
   "cell_type": "code",
   "execution_count": 20,
   "id": "2b335049",
   "metadata": {
    "execution": {
     "iopub.execute_input": "2023-11-26T19:23:37.534226Z",
     "iopub.status.busy": "2023-11-26T19:23:37.533830Z",
     "iopub.status.idle": "2023-11-26T19:23:38.061496Z",
     "shell.execute_reply": "2023-11-26T19:23:38.060561Z"
    },
    "papermill": {
     "duration": 1.326819,
     "end_time": "2023-11-26T19:23:38.063496",
     "exception": false,
     "start_time": "2023-11-26T19:23:36.736677",
     "status": "completed"
    },
    "tags": []
   },
   "outputs": [
    {
     "data": {
      "image/png": "[encoded data removed]",
      "text/plain": [
       "<Figure size 800x500 with 1 Axes>"
      ]
     },
     "metadata": {},
     "output_type": "display_data"
    },
    {
     "data": {
      "image/png": "[encoded data removed]",
      "text/plain": [
       "<Figure size 800x500 with 1 Axes>"
      ]
     },
     "metadata": {},
     "output_type": "display_data"
    }
   ],
   "source": [
    "def plot_train_history(history = model_history):\n",
    "    # Summarize history for accuracy\n",
    "    plt.figure(figsize = (8, 5))\n",
    "    #plt.xticks(np.arange(0, 10))\n",
    "    #plt.yticks(np.arange(0, 100))\n",
    "    plt.plot(history.history['accuracy'])\n",
    "    plt.plot(history.history['val_accuracy'])\n",
    "    plt.title('Model Accuracy')\n",
    "    plt.ylabel('Accuracy')\n",
    "    plt.xlabel('Epoch')\n",
    "    plt.legend(['train', 'validation'], loc='lower right')\n",
    "    plt.show()\n",
    "\n",
    "    # Summarize history for loss\n",
    "    plt.figure(figsize = (8, 5))\n",
    "    #plt.xticks(np.arange(0, 10))\n",
    "    #plt.yticks(np.arange(0, 100))\n",
    "    plt.plot(history.history['loss'])\n",
    "    plt.plot(history.history['val_loss'])\n",
    "    plt.title('Model loss')\n",
    "    plt.ylabel('loss')\n",
    "    plt.xlabel('epoch')\n",
    "    plt.legend(['train', 'validation'], loc='upper right')\n",
    "    plt.show()\n",
    "\n",
    "plot_train_history(model_history)"
   ]
  },
  {
   "cell_type": "code",
   "execution_count": 21,
   "id": "247491d8",
   "metadata": {
    "execution": {
     "iopub.execute_input": "2023-11-26T19:23:39.629619Z",
     "iopub.status.busy": "2023-11-26T19:23:39.629255Z",
     "iopub.status.idle": "2023-11-26T19:23:42.975030Z",
     "shell.execute_reply": "2023-11-26T19:23:42.974210Z"
    },
    "papermill": {
     "duration": 4.147182,
     "end_time": "2023-11-26T19:23:42.976961",
     "exception": false,
     "start_time": "2023-11-26T19:23:38.829779",
     "status": "completed"
    },
    "tags": []
   },
   "outputs": [
    {
     "name": "stdout",
     "output_type": "stream",
     "text": [
      "83/83 [==============================] - 2s 18ms/step\n"
     ]
    }
   ],
   "source": [
    "ypred_valid = model.predict(valid_tensors)"
   ]
  },
  {
   "cell_type": "code",
   "execution_count": 22,
   "id": "65f454cc",
   "metadata": {
    "execution": {
     "iopub.execute_input": "2023-11-26T19:23:44.480284Z",
     "iopub.status.busy": "2023-11-26T19:23:44.479868Z",
     "iopub.status.idle": "2023-11-26T19:23:44.485501Z",
     "shell.execute_reply": "2023-11-26T19:23:44.484538Z"
    },
    "papermill": {
     "duration": 0.760179,
     "end_time": "2023-11-26T19:23:44.487599",
     "exception": false,
     "start_time": "2023-11-26T19:23:43.727420",
     "status": "completed"
    },
    "tags": []
   },
   "outputs": [],
   "source": [
    "ypred_class = np.argmax(ypred_valid,axis=1)\n",
    "yvalid = np.argmax(yvalid,axis=1)"
   ]
  },
  {
   "cell_type": "code",
   "execution_count": 23,
   "id": "c71eca19",
   "metadata": {
    "execution": {
     "iopub.execute_input": "2023-11-26T19:23:46.050174Z",
     "iopub.status.busy": "2023-11-26T19:23:46.049423Z",
     "iopub.status.idle": "2023-11-26T19:23:46.063749Z",
     "shell.execute_reply": "2023-11-26T19:23:46.062631Z"
    },
    "papermill": {
     "duration": 0.762957,
     "end_time": "2023-11-26T19:23:46.065727",
     "exception": false,
     "start_time": "2023-11-26T19:23:45.302770",
     "status": "completed"
    },
    "tags": []
   },
   "outputs": [
    {
     "name": "stdout",
     "output_type": "stream",
     "text": [
      "Accuracy: 1.000000\n",
      "Precision: 1.000000\n",
      "Recall: 1.000000\n",
      "F1 score: 1.000000\n"
     ]
    }
   ],
   "source": [
    "accuracy = accuracy_score(yvalid, ypred_class)\n",
    "print('Accuracy: %f' % accuracy)\n",
    "# precision tp / (tp + fp)\n",
    "precision = precision_score(yvalid, ypred_class,average='weighted')\n",
    "print('Precision: %f' % precision)\n",
    "# recall: tp / (tp + fn)\n",
    "recall = recall_score(yvalid,ypred_class,average='weighted')\n",
    "print('Recall: %f' % recall)\n",
    "# f1: 2 tp / (2 tp + fp + fn)\n",
    "f1 = f1_score(yvalid,ypred_class,average='weighted')\n",
    "print('F1 score: %f' % f1)"
   ]
  },
  {
   "cell_type": "code",
   "execution_count": null,
   "id": "c883c61c",
   "metadata": {
    "papermill": {
     "duration": 0.796313,
     "end_time": "2023-11-26T19:23:47.611343",
     "exception": false,
     "start_time": "2023-11-26T19:23:46.815030",
     "status": "completed"
    },
    "tags": []
   },
   "outputs": [],
   "source": []
  },
  {
   "cell_type": "code",
   "execution_count": null,
   "id": "852028d5",
   "metadata": {
    "papermill": {
     "duration": 0.746505,
     "end_time": "2023-11-26T19:23:49.125730",
     "exception": false,
     "start_time": "2023-11-26T19:23:48.379225",
     "status": "completed"
    },
    "tags": []
   },
   "outputs": [],
   "source": []
  }
 ],
 "metadata": {
  "kaggle": {
   "accelerator": "gpu",
   "dataSources": [
    {
     "datasetId": 2497442,
     "sourceId": 4237484,
     "sourceType": "datasetVersion"
    }
   ],
   "dockerImageVersionId": 30587,
   "isGpuEnabled": true,
   "isInternetEnabled": true,
   "language": "python",
   "sourceType": "notebook"
  },
  "kernelspec": {
   "display_name": "Python 3",
   "language": "python",
   "name": "python3"
  },
  "language_info": {
   "codemirror_mode": {
    "name": "ipython",
    "version": 3
   },
   "file_extension": ".py",
   "mimetype": "text/x-python",
   "name": "python",
   "nbconvert_exporter": "python",
   "pygments_lexer": "ipython3",
   "version": "3.10.12"
  },
  "papermill": {
   "default_parameters": {},
   "duration": 1303.382512,
   "end_time": "2023-11-26T19:23:53.586578",
   "environment_variables": {},
   "exception": null,
   "input_path": "__notebook__.ipynb",
   "output_path": "__notebook__.ipynb",
   "parameters": {},
   "start_time": "2023-11-26T19:02:10.204066",
   "version": "2.4.0"
  }
 },
 "nbformat": 4,
 "nbformat_minor": 5
}
